{
 "cells": [
  {
   "cell_type": "markdown",
   "id": "5355d272",
   "metadata": {},
   "source": [
    "# 模型训练及保存"
   ]
  },
  {
   "cell_type": "code",
   "execution_count": 142,
   "id": "17979fc9",
   "metadata": {},
   "outputs": [],
   "source": [
    "model = 'LFRR'\n",
    "dataset = 'tech'\n",
    "gpu_type = '3090'\n",
    "PROJ_PATH_BOLE = f'/code/yangchen/RecBole-PJF'\n",
    "checkpoint_dir = f'/code/yangchen/RecBole-PJF/arsenal_result/'\n",
    "\n",
    "train_script = f'run_recbole_pjf.py \\\n",
    "        --model={model} \\\n",
    "        --dataset={dataset} \\\n",
    "        --checkpoint_dir={checkpoint_dir}'"
   ]
  },
  {
   "cell_type": "code",
   "execution_count": 143,
   "id": "fa9c4c32",
   "metadata": {},
   "outputs": [
    {
     "name": "stdout",
     "output_type": "stream",
     "text": [
      "2022-12-15 17:15:34.845 WARN [node_map.py:44] node_map_logger - \u001b[1;38;5;160mthe node name: tmp-exec has been defined, will be overwrite the node.\u001b[0m \n",
      "2022-12-15 17:15:34.846 INFO [node_map.py:49] node_map_logger - success to add node: \u001b[1;38;5;21mtmp-exec\u001b[0m \n",
      "2022-12-15 17:15:34.865 INFO [graph.py:677] ArsenalGraph_logger - \u0001\u0001开始发布任务\n",
      "2022-12-15 17:15:35.012 INFO [graph.py:599] ArsenalGraph_logger - \u0001\u0001任务提交成功，aflow_name: \u001b[1;38;5;21mlab-18-magic-nkrowj\u001b[0m \n",
      "2022-12-15 17:15:35.013 INFO [graph.py:679] ArsenalGraph_logger - \u0001\u0001任务发布成功\n"
     ]
    }
   ],
   "source": [
    "train_magic = f'''\n",
    "%%simple_training submit\n",
    "-f tensorflow\n",
    "-wi=harbor.weizhipin.com/business-pro/webide-image-lab-18:add_recbole-add_recbole\n",
    "--worker_cmd=python\n",
    "--worker_args={os.path.join(PROJ_PATH_BOLE, train_script)}\n",
    "--cpu=16\n",
    "--gpu=1\n",
    "--gpu_type={gpu_type}\n",
    "--memory=64Gi\n",
    "--pending_wait_time=2h\n",
    "'''\n",
    "# harbor.weizhipin.com/arsenal_notebook/pytorch19:add-geometric\n",
    "# harbor.weizhipin.com/arsenal_notebook/pytorch111:2.1.1\n",
    "\n",
    "# harbor.weizhipin.com/business-pro/webide-image-lab-18:add_recbole-add_recbole\n",
    "exec_magic(train_magic)"
   ]
  },
  {
   "cell_type": "code",
   "execution_count": null,
   "id": "1d63e274",
   "metadata": {},
   "outputs": [],
   "source": []
  },
  {
   "cell_type": "code",
   "execution_count": 60,
   "id": "1ac52c1c",
   "metadata": {},
   "outputs": [],
   "source": [
    "model = 'LightGCN'\n",
    "dataset = 'tech'\n",
    "\n",
    "checkpoint_dir = f'/code/yangchen/RecBole-PJF/arsenal_result/'\n",
    "param_file = f'/code/yangchen/RecBole-PJF/hyper_param/hyper_{model}.test'\n",
    "hyper_result_file = f'/code/yangchen/RecBole-PJF/hyper_log/hyper_{model}_{dataset}.result'\n",
    "\n",
    "train_script = f'run_hyper.py \\\n",
    "        --model={model} \\\n",
    "        --dataset={dataset} \\\n",
    "        --checkpoint_dir={checkpoint_dir} \\\n",
    "        --params_file={param_file} \\\n",
    "        --output_file={hyper_result_file}'"
   ]
  },
  {
   "cell_type": "code",
   "execution_count": 61,
   "id": "d03bd4d0",
   "metadata": {},
   "outputs": [
    {
     "name": "stdout",
     "output_type": "stream",
     "text": [
      "2022-12-07 14:36:32.258 WARN [node_map.py:44] node_map_logger - \u001b[1;38;5;160mthe node name: tmp-exec has been defined, will be overwrite the node.\u001b[0m \n",
      "2022-12-07 14:36:32.258 INFO [node_map.py:49] node_map_logger - success to add node: \u001b[1;38;5;21mtmp-exec\u001b[0m \n",
      "2022-12-07 14:36:32.274 INFO [graph.py:677] ArsenalGraph_logger - \u0001\u0001开始发布任务\n",
      "2022-12-07 14:36:32.379 INFO [graph.py:599] ArsenalGraph_logger - \u0001\u0001任务提交成功，aflow_name: \u001b[1;38;5;21mlab-18-magic-t8jnnk\u001b[0m \n",
      "2022-12-07 14:36:32.379 INFO [graph.py:679] ArsenalGraph_logger - \u0001\u0001任务发布成功\n"
     ]
    }
   ],
   "source": [
    "PROJ_PATH_BOLE = f'/code/yangchen/RecBole-PJF'\n",
    "train_magic = f'''\n",
    "%%simple_training submit\n",
    "-f tensorflow\n",
    "-wi=harbor.weizhipin.com/business-pro/webide-image-lab-18:add_recbole-add_recbole\n",
    "--worker_cmd=python\n",
    "--worker_args={os.path.join(PROJ_PATH_BOLE, train_script)}\n",
    "--cpu=16\n",
    "--gpu=1\n",
    "--gpu_type=2080\n",
    "--memory=64Gi\n",
    "--pending_wait_time=2h\n",
    "'''\n",
    "# harbor.weizhipin.com/arsenal_notebook/pytorch19:add-geometric\n",
    "# harbor.weizhipin.com/arsenal_notebook/pytorch111:2.1.1\n",
    "# harbor.weizhipin.com/business-pro/webide-image-lab-18:add_recbole-add_recbole\n",
    "exec_magic(train_magic)"
   ]
  },
  {
   "cell_type": "code",
   "execution_count": null,
   "id": "a821a7e1",
   "metadata": {},
   "outputs": [],
   "source": [
    "python evaluate.py --model=BBPR --dataset=tech --saved_model_file=/code/yangchen/RecBole-PJF/arsenal_result/BBPR-Dec-07-2022_20-32-46.pth"
   ]
  },
  {
   "cell_type": "code",
   "execution_count": 86,
   "id": "ebcf103b",
   "metadata": {},
   "outputs": [],
   "source": [
    "model = 'BBPR'\n",
    "dataset = 'tech'\n",
    "\n",
    "saved_model_file = f'/code/yangchen/RecBole-PJF/arsenal_result/BBPR-Dec-07-2022_20-32-46.pth'\n",
    "\n",
    "train_script = f'evaluate.py \\\n",
    "        --model={model} \\\n",
    "        --dataset={dataset} \\\n",
    "        --saved_model_file={saved_model_file}'"
   ]
  },
  {
   "cell_type": "code",
   "execution_count": 87,
   "id": "6728c803",
   "metadata": {},
   "outputs": [
    {
     "name": "stdout",
     "output_type": "stream",
     "text": [
      "2022-12-11 10:25:10.947 WARN [node_map.py:44] node_map_logger - \u001b[1;38;5;160mthe node name: tmp-exec has been defined, will be overwrite the node.\u001b[0m \n",
      "2022-12-11 10:25:10.948 INFO [node_map.py:49] node_map_logger - success to add node: \u001b[1;38;5;21mtmp-exec\u001b[0m \n",
      "2022-12-11 10:25:10.965 INFO [graph.py:677] ArsenalGraph_logger - \u0001\u0001开始发布任务\n",
      "2022-12-11 10:25:11.074 INFO [graph.py:599] ArsenalGraph_logger - \u0001\u0001任务提交成功，aflow_name: \u001b[1;38;5;21mlab-18-magic-35rrg3\u001b[0m \n",
      "2022-12-11 10:25:11.074 INFO [graph.py:679] ArsenalGraph_logger - \u0001\u0001任务发布成功\n"
     ]
    }
   ],
   "source": [
    "PROJ_PATH_BOLE = f'/code/yangchen/RecBole-PJF'\n",
    "train_magic = f'''\n",
    "%%simple_training submit\n",
    "-f tensorflow\n",
    "-wi=harbor.weizhipin.com/business-pro/webide-image-lab-18:add_recbole-add_recbole\n",
    "--worker_cmd=python\n",
    "--worker_args={os.path.join(PROJ_PATH_BOLE, train_script)}\n",
    "--cpu=16\n",
    "--gpu=1\n",
    "--gpu_type=2080\n",
    "--memory=64Gi\n",
    "--pending_wait_time=2h\n",
    "'''\n",
    "# harbor.weizhipin.com/arsenal_notebook/pytorch19:add-geometric\n",
    "# harbor.weizhipin.com/arsenal_notebook/pytorch111:2.1.1\n",
    "# harbor.weizhipin.com/business-pro/webide-image-lab-18:add_recbole-add_recbole\n",
    "exec_magic(train_magic)"
   ]
  },
  {
   "cell_type": "code",
   "execution_count": null,
   "id": "fb0ec244",
   "metadata": {},
   "outputs": [],
   "source": []
  }
 ],
 "metadata": {
  "kernelspec": {
   "display_name": "Python 3 (ipykernel)",
   "language": "python",
   "name": "python3"
  },
  "language_info": {
   "codemirror_mode": {
    "name": "ipython",
    "version": 3
   },
   "file_extension": ".py",
   "mimetype": "text/x-python",
   "name": "python",
   "nbconvert_exporter": "python",
   "pygments_lexer": "ipython3",
   "version": "3.8.12"
  }
 },
 "nbformat": 4,
 "nbformat_minor": 5
}
